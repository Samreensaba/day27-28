{
 "cells": [
  {
   "cell_type": "code",
   "execution_count": 2,
   "id": "1b7e0c49-111d-418d-ad04-64712040fded",
   "metadata": {},
   "outputs": [
    {
     "name": "stdout",
     "output_type": "stream",
     "text": [
      "CHARACTER BUILDER\n",
      "\n"
     ]
    },
    {
     "name": "stdin",
     "output_type": "stream",
     "text": [
      "Name your Legend:  Irfan the shield\n",
      "Character Type (Human, Elf, Wizard, Orc):  Human\n"
     ]
    },
    {
     "name": "stdout",
     "output_type": "stream",
     "text": [
      "\n",
      "Irfan the shield\n",
      "HEALTH:  34.0\n",
      "STRENGTH:  18.0\n",
      "\n",
      "May your name go down in Legend....\n",
      "\n"
     ]
    },
    {
     "name": "stdin",
     "output_type": "stream",
     "text": [
      "Again?y/n:  n\n"
     ]
    },
    {
     "name": "stdout",
     "output_type": "stream",
     "text": [
      "Thank you for playing, Game Over.\n"
     ]
    }
   ],
   "source": [
    "import random, os, time\n",
    "\n",
    "def diceRoll (sides):\n",
    "  result = random.randint(1,sides)\n",
    "  return result\n",
    "\n",
    "def healthStat ():\n",
    "  health = ((diceRoll(6) * diceRoll(12))/2) + 10\n",
    "  return health\n",
    "\n",
    "def strenghtStat():\n",
    "  strength = ((diceRoll(6) * diceRoll(12))/2) + 12\n",
    "  return strength\n",
    "\n",
    "print(\"CHARACTER BUILDER\")\n",
    "print()\n",
    "\n",
    "while True:\n",
    "  name = input(\"Name your Legend: \")\n",
    "  type = input(\"Character Type (Human, Elf, Wizard, Orc): \")\n",
    "  time.sleep(1)\n",
    "  print()\n",
    "  print(name)\n",
    "  print(\"HEALTH: \", healthStat())\n",
    "  print(\"STRENGTH: \", strenghtStat())\n",
    "  print()\n",
    "  print(\"May your name go down in Legend....\")\n",
    "  print()\n",
    "  again = input(\"Again?y/n: \")\n",
    "  if again == \"y\":\n",
    "    os.system(\"clear\")\n",
    "    time.sleep(1)\n",
    "    continue\n",
    "  else:\n",
    "    os.system(\"clear\")\n",
    "    print(\"Thank you for playing, Game Over.\")\n",
    "    break"
   ]
  },
  {
   "cell_type": "code",
   "execution_count": null,
   "id": "95c71acc-7c6a-4eb5-a085-e1faaf2b68a3",
   "metadata": {},
   "outputs": [],
   "source": []
  }
 ],
 "metadata": {
  "kernelspec": {
   "display_name": "Python 3 (ipykernel)",
   "language": "python",
   "name": "python3"
  },
  "language_info": {
   "codemirror_mode": {
    "name": "ipython",
    "version": 3
   },
   "file_extension": ".py",
   "mimetype": "text/x-python",
   "name": "python",
   "nbconvert_exporter": "python",
   "pygments_lexer": "ipython3",
   "version": "3.12.4"
  }
 },
 "nbformat": 4,
 "nbformat_minor": 5
}
